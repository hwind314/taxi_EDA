{
 "cells": [
  {
   "cell_type": "markdown",
   "id": "0c0bd1ec",
   "metadata": {
    "toc": true
   },
   "source": [
    "<h1>Table of Contents<span class=\"tocSkip\"></span></h1>\n",
    "<div class=\"toc\"><ul class=\"toc-item\"><li><ul class=\"toc-item\"><li><span><a href=\"#Scenario\" data-toc-modified-id=\"Scenario--1.1\">Scenario</a></span></li></ul></li><li><span><a href=\"#Taxi-Data\" data-toc-modified-id=\"Taxi-Data-0\">Taxi Data</a></span></li><li><span><a href=\"#Data-Cleaning\" data-toc-modified-id=\"Data-Cleaning-1\">Data Cleaning</a></span><ul class=\"toc-item\"><li><span><a href=\"#Columns\" data-toc-modified-id=\"Columns-1.1\">Columns</a></span></li><li><span><a href=\"#Missing-Values\" data-toc-modified-id=\"Missing-Values-1.2\">Missing Values</a></span></li><li><span><a href=\"#Profile-Report\" data-toc-modified-id=\"Profile-Report-1.3\">Profile Report</a></span></li><li><span><a href=\"#Data-Discovery\" data-toc-modified-id=\"Data-Discovery-1.4\">Data Discovery</a></span><ul class=\"toc-item\"><li><span><a href=\"#SNS-Pairplot\" data-toc-modified-id=\"SNS-Pairplot-1.4.1\">SNS Pairplot</a></span></li></ul></li></ul></li></ul></div>"
   ]
  },
  {
   "cell_type": "markdown",
   "id": "391ae555",
   "metadata": {},
   "source": [
    "## Scenario"
   ]
  },
  {
   "cell_type": "markdown",
   "id": "add3b707",
   "metadata": {},
   "source": [
    "Stakeholders: CEO, business analyst\n",
    "\n",
    "Goal: Prepare data for business analyst by wrangling and cleaning raw data"
   ]
  },
  {
   "cell_type": "markdown",
   "id": "51023ee9",
   "metadata": {},
   "source": [
    "# Taxi Data"
   ]
  },
  {
   "cell_type": "markdown",
   "id": "cb77578d",
   "metadata": {},
   "source": [
    "Importing libraries"
   ]
  },
  {
   "cell_type": "code",
   "execution_count": 1,
   "id": "0bfeaf0c",
   "metadata": {},
   "outputs": [],
   "source": [
    "import pandas as pd\n",
    "import numpy as np\n",
    "import math\n",
    "import time\n",
    "from datetime import datetime, timedelta\n",
    "\n",
    "from ydata_profiling import ProfileReport\n",
    "import missingno as missno \n",
    "import calendar\n",
    "\n",
    "import matplotlib.pyplot as plt\n",
    "import seaborn as sns\n",
    "from sklearn import datasets"
   ]
  },
  {
   "cell_type": "markdown",
   "id": "d6b95a31",
   "metadata": {},
   "source": [
    "Data Profiling"
   ]
  },
  {
   "cell_type": "markdown",
   "id": "e7605404",
   "metadata": {},
   "source": [
    "Importing Raw Data as 'df':"
   ]
  },
  {
   "cell_type": "code",
   "execution_count": 2,
   "id": "1dbf0325",
   "metadata": {},
   "outputs": [],
   "source": [
    "df = pd.read_csv(r\"train.csv\", header=0)"
   ]
  },
  {
   "cell_type": "markdown",
   "id": "71f828f6",
   "metadata": {},
   "source": [
    "Summary of dataframe:"
   ]
  },
  {
   "cell_type": "code",
   "execution_count": 3,
   "id": "bb3856e1",
   "metadata": {},
   "outputs": [
    {
     "name": "stdout",
     "output_type": "stream",
     "text": [
      "<class 'pandas.core.frame.DataFrame'>\n",
      "RangeIndex: 1710670 entries, 0 to 1710669\n",
      "Data columns (total 9 columns):\n",
      " #   Column        Dtype  \n",
      "---  ------        -----  \n",
      " 0   TRIP_ID       int64  \n",
      " 1   CALL_TYPE     object \n",
      " 2   ORIGIN_CALL   float64\n",
      " 3   ORIGIN_STAND  float64\n",
      " 4   TAXI_ID       int64  \n",
      " 5   TIMESTAMP     int64  \n",
      " 6   DAY_TYPE      object \n",
      " 7   MISSING_DATA  bool   \n",
      " 8   POLYLINE      object \n",
      "dtypes: bool(1), float64(2), int64(3), object(3)\n",
      "memory usage: 106.0+ MB\n"
     ]
    }
   ],
   "source": [
    "df.info()"
   ]
  },
  {
   "cell_type": "code",
   "execution_count": 4,
   "id": "26f881eb",
   "metadata": {},
   "outputs": [
    {
     "data": {
      "text/html": [
       "<div>\n",
       "<style scoped>\n",
       "    .dataframe tbody tr th:only-of-type {\n",
       "        vertical-align: middle;\n",
       "    }\n",
       "\n",
       "    .dataframe tbody tr th {\n",
       "        vertical-align: top;\n",
       "    }\n",
       "\n",
       "    .dataframe thead th {\n",
       "        text-align: right;\n",
       "    }\n",
       "</style>\n",
       "<table border=\"1\" class=\"dataframe\">\n",
       "  <thead>\n",
       "    <tr style=\"text-align: right;\">\n",
       "      <th></th>\n",
       "      <th>TRIP_ID</th>\n",
       "      <th>CALL_TYPE</th>\n",
       "      <th>ORIGIN_CALL</th>\n",
       "      <th>ORIGIN_STAND</th>\n",
       "      <th>TAXI_ID</th>\n",
       "      <th>TIMESTAMP</th>\n",
       "      <th>DAY_TYPE</th>\n",
       "      <th>MISSING_DATA</th>\n",
       "      <th>POLYLINE</th>\n",
       "    </tr>\n",
       "  </thead>\n",
       "  <tbody>\n",
       "    <tr>\n",
       "      <th>0</th>\n",
       "      <td>1372636858620000589</td>\n",
       "      <td>C</td>\n",
       "      <td>NaN</td>\n",
       "      <td>NaN</td>\n",
       "      <td>20000589</td>\n",
       "      <td>1372636858</td>\n",
       "      <td>A</td>\n",
       "      <td>False</td>\n",
       "      <td>[[-8.618643,41.141412],[-8.618499,41.141376],[...</td>\n",
       "    </tr>\n",
       "    <tr>\n",
       "      <th>1</th>\n",
       "      <td>1372637303620000596</td>\n",
       "      <td>B</td>\n",
       "      <td>NaN</td>\n",
       "      <td>7.0</td>\n",
       "      <td>20000596</td>\n",
       "      <td>1372637303</td>\n",
       "      <td>A</td>\n",
       "      <td>False</td>\n",
       "      <td>[[-8.639847,41.159826],[-8.640351,41.159871],[...</td>\n",
       "    </tr>\n",
       "    <tr>\n",
       "      <th>2</th>\n",
       "      <td>1372636951620000320</td>\n",
       "      <td>C</td>\n",
       "      <td>NaN</td>\n",
       "      <td>NaN</td>\n",
       "      <td>20000320</td>\n",
       "      <td>1372636951</td>\n",
       "      <td>A</td>\n",
       "      <td>False</td>\n",
       "      <td>[[-8.612964,41.140359],[-8.613378,41.14035],[-...</td>\n",
       "    </tr>\n",
       "    <tr>\n",
       "      <th>3</th>\n",
       "      <td>1372636854620000520</td>\n",
       "      <td>C</td>\n",
       "      <td>NaN</td>\n",
       "      <td>NaN</td>\n",
       "      <td>20000520</td>\n",
       "      <td>1372636854</td>\n",
       "      <td>A</td>\n",
       "      <td>False</td>\n",
       "      <td>[[-8.574678,41.151951],[-8.574705,41.151942],[...</td>\n",
       "    </tr>\n",
       "    <tr>\n",
       "      <th>4</th>\n",
       "      <td>1372637091620000337</td>\n",
       "      <td>C</td>\n",
       "      <td>NaN</td>\n",
       "      <td>NaN</td>\n",
       "      <td>20000337</td>\n",
       "      <td>1372637091</td>\n",
       "      <td>A</td>\n",
       "      <td>False</td>\n",
       "      <td>[[-8.645994,41.18049],[-8.645949,41.180517],[-...</td>\n",
       "    </tr>\n",
       "  </tbody>\n",
       "</table>\n",
       "</div>"
      ],
      "text/plain": [
       "               TRIP_ID CALL_TYPE  ORIGIN_CALL  ORIGIN_STAND   TAXI_ID  \\\n",
       "0  1372636858620000589         C          NaN           NaN  20000589   \n",
       "1  1372637303620000596         B          NaN           7.0  20000596   \n",
       "2  1372636951620000320         C          NaN           NaN  20000320   \n",
       "3  1372636854620000520         C          NaN           NaN  20000520   \n",
       "4  1372637091620000337         C          NaN           NaN  20000337   \n",
       "\n",
       "    TIMESTAMP DAY_TYPE  MISSING_DATA  \\\n",
       "0  1372636858        A         False   \n",
       "1  1372637303        A         False   \n",
       "2  1372636951        A         False   \n",
       "3  1372636854        A         False   \n",
       "4  1372637091        A         False   \n",
       "\n",
       "                                            POLYLINE  \n",
       "0  [[-8.618643,41.141412],[-8.618499,41.141376],[...  \n",
       "1  [[-8.639847,41.159826],[-8.640351,41.159871],[...  \n",
       "2  [[-8.612964,41.140359],[-8.613378,41.14035],[-...  \n",
       "3  [[-8.574678,41.151951],[-8.574705,41.151942],[...  \n",
       "4  [[-8.645994,41.18049],[-8.645949,41.180517],[-...  "
      ]
     },
     "execution_count": 4,
     "metadata": {},
     "output_type": "execute_result"
    }
   ],
   "source": [
    "df.head()"
   ]
  },
  {
   "cell_type": "markdown",
   "id": "98f77732",
   "metadata": {},
   "source": [
    "Note:\n",
    "(following information from kaggle)\n",
    "\n",
    "CALL_TYPE: (char) It identifies the way used to demand this service. It may contain one of three possible values:\n",
    "- ‘A’ if this trip was dispatched from the central;\n",
    "- ‘B’ if this trip was demanded directly to a taxi driver on a specific stand;\n",
    "- ‘C’ otherwise (i.e. a trip demanded on a random street).\n",
    "\n",
    "\n",
    "DAYTYPE: (char) It identifies the daytype of the trip’s start. It assumes one of three possible values:\n",
    "- ‘A’ otherwise (i.e. a normal day, workday or weekend);\n",
    "- ‘B’ if this trip started on a holiday or any other special day (i.e. extending holidays, floating holidays, etc.);\n",
    "- ‘C’ if the trip started on a day before a type-B day;\n",
    "\n",
    "POLYLINE: (String): It contains a list of GPS coordinates (i.e. WGS84 format) mapped as a string. The beginning and the end of the string are identified with brackets (i.e. [ and ], respectively). Each pair of coordinates is also identified by the same brackets as [LONGITUDE, LATITUDE]. This list contains one pair of coordinates for each 15 seconds of trip. The last list item corresponds to the trip’s destination while the first one represents its start;"
   ]
  },
  {
   "cell_type": "markdown",
   "id": "a81e90e4",
   "metadata": {},
   "source": [
    "# Data Cleaning"
   ]
  },
  {
   "cell_type": "markdown",
   "id": "b4d1851d",
   "metadata": {},
   "source": [
    "## Columns"
   ]
  },
  {
   "cell_type": "markdown",
   "id": "13754a21",
   "metadata": {},
   "source": [
    "Changing column names to all lowercase for ease of use"
   ]
  },
  {
   "cell_type": "code",
   "execution_count": 5,
   "id": "a7e6366b",
   "metadata": {},
   "outputs": [],
   "source": [
    "df.columns = map(str.lower, df.columns)"
   ]
  },
  {
   "cell_type": "markdown",
   "id": "86367778",
   "metadata": {},
   "source": [
    "Adding columns:"
   ]
  },
  {
   "cell_type": "markdown",
   "id": "017b1b5e",
   "metadata": {},
   "source": [
    "Timestamp"
   ]
  },
  {
   "cell_type": "markdown",
   "id": "2872c367",
   "metadata": {},
   "source": [
    "Changing timestamp column to datetime format"
   ]
  },
  {
   "cell_type": "code",
   "execution_count": 6,
   "id": "9ce38919",
   "metadata": {},
   "outputs": [],
   "source": [
    "df['timestamp'] = pd.to_datetime(df['timestamp'])"
   ]
  },
  {
   "cell_type": "markdown",
   "id": "08e86812",
   "metadata": {},
   "source": [
    "date"
   ]
  },
  {
   "cell_type": "code",
   "execution_count": 7,
   "id": "d95db0da",
   "metadata": {},
   "outputs": [],
   "source": [
    "df['date'] = df['timestamp'].dt.date"
   ]
  },
  {
   "cell_type": "markdown",
   "id": "a7c68b99",
   "metadata": {},
   "source": [
    "note: all data occurs on the same day"
   ]
  },
  {
   "cell_type": "markdown",
   "id": "a0a5db3d",
   "metadata": {},
   "source": [
    "start_time"
   ]
  },
  {
   "cell_type": "markdown",
   "id": "25ff0292",
   "metadata": {},
   "source": [
    "start_time : the start time of the journey is derived from the time in 'timestamp'"
   ]
  },
  {
   "cell_type": "code",
   "execution_count": 8,
   "id": "5dcd14a6",
   "metadata": {},
   "outputs": [],
   "source": [
    "df['start_time'] = df['timestamp'].dt.time"
   ]
  },
  {
   "cell_type": "markdown",
   "id": "1669d273",
   "metadata": {},
   "source": [
    "polyline"
   ]
  },
  {
   "cell_type": "code",
   "execution_count": 9,
   "id": "177c2687",
   "metadata": {},
   "outputs": [],
   "source": [
    "def find_indices(search_list, search_item):\n",
    "    indices = []\n",
    "    for (index, item) in enumerate(search_list):\n",
    "        if item == search_item:\n",
    "            indices.append(index)\n",
    "    return indices"
   ]
  },
  {
   "cell_type": "markdown",
   "id": "af2a7f05",
   "metadata": {},
   "source": [
    "starting_point"
   ]
  },
  {
   "cell_type": "markdown",
   "id": "e262d563",
   "metadata": {},
   "source": [
    "This column was created using the polyline column to find the first pair of coordinates. If a pair of coordinates is not present, then it will be presented as 'NA'."
   ]
  },
  {
   "cell_type": "code",
   "execution_count": 10,
   "id": "f670a293",
   "metadata": {},
   "outputs": [],
   "source": [
    "s = []\n",
    "\n",
    "for i in range(len(df)):\n",
    "    x = find_indices(df[\"polyline\"][i], \",\")\n",
    "    if len(x) >= 2:\n",
    "        y = x[1]\n",
    "        s.append(df[\"polyline\"][i][1:y])\n",
    "    else:\n",
    "        s.append(\"NA\")\n",
    "        \n",
    "df['starting_point'] = s"
   ]
  },
  {
   "cell_type": "markdown",
   "id": "834ad686",
   "metadata": {},
   "source": [
    "ending_point"
   ]
  },
  {
   "cell_type": "markdown",
   "id": "496c747f",
   "metadata": {},
   "source": [
    "This column was created using the polyline column to find the last pair of coordinates. If a pair of coordinates is not present, then it will be presented as 'NA'."
   ]
  },
  {
   "cell_type": "code",
   "execution_count": 11,
   "id": "5dd5b181",
   "metadata": {},
   "outputs": [],
   "source": [
    "e = []\n",
    "\n",
    "for i in range(len(df)):\n",
    "    x = find_indices(df[\"polyline\"][i], \",\")\n",
    "    if len(x) >= 2:\n",
    "        y = x[-2] + 1\n",
    "        e.append(df[\"polyline\"][i][y:-1])\n",
    "    else:\n",
    "        e.append(\"NA\")\n",
    "    \n",
    "df['ending_point'] = e"
   ]
  },
  {
   "cell_type": "markdown",
   "id": "80316196",
   "metadata": {},
   "source": [
    "distance"
   ]
  },
  {
   "cell_type": "markdown",
   "id": "5bbebcdf",
   "metadata": {},
   "source": [
    "Distance was found using pythagoras theorem: a² + b² = c²\n",
    "\n",
    "a = x2 - x1\n",
    "\n",
    "b = y2 - y1\n",
    "\n",
    "x2 and x1: the x coordinates of the starting and ending point\n",
    "y2 and y1: the y coordinates of the starting and ending point"
   ]
  },
  {
   "cell_type": "markdown",
   "id": "d21da59f",
   "metadata": {},
   "source": [
    "Steps:\n",
    "- the x and y values of the starting and ending point had to be found\n",
    "- the absolute difference between the x values were found (repeat for y values)\n",
    "- find c using previous results\n",
    "- add to new column 'distance'"
   ]
  },
  {
   "cell_type": "code",
   "execution_count": 12,
   "id": "18fda9dc",
   "metadata": {},
   "outputs": [],
   "source": [
    "ld = []\n",
    "\n",
    "for i in range(len(df)):\n",
    "    sp = df['starting_point'][i].split(\",\")\n",
    "    ep = df['ending_point'][i].split(\",\")\n",
    "    if len(sp) == 2  and len(ep) == 2:\n",
    "        x1 = sp[0][1:]\n",
    "        y1 = sp[1][:-1]\n",
    "        x2 = ep[0][1:]\n",
    "        y2 = ep[1][:-1]\n",
    "        if any(i.isdigit() for i in x1) == True and any(i.isdigit() for i in x2) == True:\n",
    "            a = abs(float(x2) - float(x1))\n",
    "            b = abs(float(y2) - float(y1))\n",
    "            c = math.sqrt(a**2 + b**2)\n",
    "        else:\n",
    "            c = \"Nan\"\n",
    "    else:\n",
    "        c = \"NaN\"\n",
    "    ld.append(c)\n",
    "    \n",
    "\n",
    "df[\"distance\"] = ld"
   ]
  },
  {
   "cell_type": "markdown",
   "id": "a207b80f",
   "metadata": {},
   "source": [
    "duration"
   ]
  },
  {
   "cell_type": "markdown",
   "id": "9dbf5441",
   "metadata": {},
   "source": [
    "note: every addiontional coordinate from polyline column represents 15 seconds. E.g. 3 coordinates = 30 seconds"
   ]
  },
  {
   "cell_type": "markdown",
   "id": "0280e0e5",
   "metadata": {},
   "source": [
    "Steps:\n",
    "- find number of \",\" in cell\n",
    "- multiply value by 15"
   ]
  },
  {
   "cell_type": "code",
   "execution_count": 13,
   "id": "353d1e14",
   "metadata": {},
   "outputs": [],
   "source": [
    "t = []\n",
    "\n",
    "for i in range(len(df)):\n",
    "    x = find_indices(df[\"polyline\"][i], \",\")\n",
    "    c = len(x)\n",
    "    t.append(c*15)\n",
    "    \n",
    "    \n",
    "df[\"duration\"] = t"
   ]
  },
  {
   "cell_type": "markdown",
   "id": "0c91840c",
   "metadata": {},
   "source": [
    "end_time"
   ]
  },
  {
   "cell_type": "markdown",
   "id": "7050467b",
   "metadata": {},
   "source": [
    "end time is found by taking start time and adding duration"
   ]
  },
  {
   "cell_type": "code",
   "execution_count": 14,
   "id": "1d1ebdc9",
   "metadata": {},
   "outputs": [],
   "source": [
    "df[\"end_timestamp\"] = df[\"timestamp\"] + pd.to_timedelta(df['duration'], unit='s')\n",
    "\n",
    "df['end_time'] = df['end_timestamp'].dt.time"
   ]
  },
  {
   "cell_type": "markdown",
   "id": "27fcfd45",
   "metadata": {},
   "source": [
    "speed"
   ]
  },
  {
   "cell_type": "markdown",
   "id": "da4935b5",
   "metadata": {},
   "source": [
    "speed = distance / time"
   ]
  },
  {
   "cell_type": "code",
   "execution_count": 15,
   "id": "f6ca0496",
   "metadata": {},
   "outputs": [],
   "source": [
    "df[\"distance\"] = pd.to_numeric(df[\"distance\"], errors=\"coerce\")\n",
    "df[\"duration\"] = pd.to_numeric(df[\"duration\"], errors=\"coerce\")"
   ]
  },
  {
   "cell_type": "code",
   "execution_count": 16,
   "id": "b6e533d6",
   "metadata": {},
   "outputs": [],
   "source": [
    "df[\"speed\"] = df[\"distance\"] / df[\"duration\"]"
   ]
  },
  {
   "cell_type": "markdown",
   "id": "e4019180",
   "metadata": {},
   "source": [
    "Changing column order"
   ]
  },
  {
   "cell_type": "markdown",
   "id": "b3fbd99a",
   "metadata": {},
   "source": [
    "Changing column order to a more logical order. Putting time related columns next to each other as well as coordinates and distance related columns together."
   ]
  },
  {
   "cell_type": "markdown",
   "id": "af03f2e6",
   "metadata": {},
   "source": [
    "Also removing column 'timestamp' as the same information is in columns 'date' and 'start_time'."
   ]
  },
  {
   "cell_type": "code",
   "execution_count": 17,
   "id": "bac7999b",
   "metadata": {},
   "outputs": [],
   "source": [
    "new_order = [\"trip_id\",\"call_type\",\"origin_call\",\"origin_stand\",\"taxi_id\",\"day_type\",\"start_time\",\"end_time\",\"date\",\"duration\",\"speed\",\"polyline\",\"starting_point\",\"ending_point\",\"distance\",\"missing_data\"]\n",
    "\n",
    "df = df.reindex(columns=new_order)"
   ]
  },
  {
   "cell_type": "markdown",
   "id": "293af68f",
   "metadata": {},
   "source": [
    "## Missing Values"
   ]
  },
  {
   "cell_type": "markdown",
   "id": "9307312e",
   "metadata": {},
   "source": [
    "Profiling:"
   ]
  },
  {
   "cell_type": "code",
   "execution_count": 18,
   "id": "c037e34a",
   "metadata": {},
   "outputs": [
    {
     "name": "stdout",
     "output_type": "stream",
     "text": [
      "Total missing value in dataframe:\n"
     ]
    },
    {
     "data": {
      "text/plain": [
       "2323011"
      ]
     },
     "execution_count": 18,
     "metadata": {},
     "output_type": "execute_result"
    }
   ],
   "source": [
    "print(\"Total missing value in dataframe:\")\n",
    "df.isnull().sum().sum()"
   ]
  },
  {
   "cell_type": "code",
   "execution_count": 19,
   "id": "4e33034d",
   "metadata": {},
   "outputs": [
    {
     "name": "stdout",
     "output_type": "stream",
     "text": [
      "Total missing value by column:\n"
     ]
    },
    {
     "data": {
      "text/plain": [
       "trip_id                 0\n",
       "call_type               0\n",
       "origin_call       1345900\n",
       "origin_stand       904091\n",
       "taxi_id                 0\n",
       "day_type                0\n",
       "start_time              0\n",
       "end_time                0\n",
       "date                    0\n",
       "duration                0\n",
       "speed               36510\n",
       "polyline                0\n",
       "starting_point          0\n",
       "ending_point            0\n",
       "distance            36510\n",
       "missing_data            0\n",
       "dtype: int64"
      ]
     },
     "execution_count": 19,
     "metadata": {},
     "output_type": "execute_result"
    }
   ],
   "source": [
    "print(\"Total missing value by column:\")\n",
    "df.isnull().sum()"
   ]
  },
  {
   "cell_type": "code",
   "execution_count": 20,
   "id": "b93952bd",
   "metadata": {},
   "outputs": [
    {
     "name": "stdout",
     "output_type": "stream",
     "text": [
      "Total rows with no missing entries in all their columns:\n",
      "0\n"
     ]
    }
   ],
   "source": [
    "print(\"Total rows with no missing entries in all their columns:\")\n",
    "\n",
    "complete_rows = df.isnull().sum(axis=1) == 0\n",
    "num_complete_rows = len(df[complete_rows])\n",
    "\n",
    "print(num_complete_rows)"
   ]
  },
  {
   "cell_type": "code",
   "execution_count": 21,
   "id": "b690368e",
   "metadata": {},
   "outputs": [
    {
     "name": "stdout",
     "output_type": "stream",
     "text": [
      "Missing values in Polyline:\n"
     ]
    },
    {
     "data": {
      "text/plain": [
       "5903"
      ]
     },
     "execution_count": 21,
     "metadata": {},
     "output_type": "execute_result"
    }
   ],
   "source": [
    "print(\"Missing values in Polyline:\")\n",
    "sum(len(row['polyline']) < 19 for _, row in df.iterrows())"
   ]
  },
  {
   "cell_type": "markdown",
   "id": "85976363",
   "metadata": {},
   "source": [
    "note: 19 was used as that is the minimum length for one set of coordinates (i.e [0.000000,0.000000] )"
   ]
  },
  {
   "cell_type": "markdown",
   "id": "34323fe3",
   "metadata": {},
   "source": [
    "Replacing missing values"
   ]
  },
  {
   "cell_type": "markdown",
   "id": "94bbf9a6",
   "metadata": {},
   "source": [
    "polyline"
   ]
  },
  {
   "cell_type": "markdown",
   "id": "ca6095cc",
   "metadata": {},
   "source": [
    "If lenght of polyline is less than 19, then change value to 'None'"
   ]
  },
  {
   "cell_type": "code",
   "execution_count": 22,
   "id": "4c8b128c",
   "metadata": {},
   "outputs": [],
   "source": [
    "for _, row in df.iterrows():\n",
    "    if len(row['polyline']) < 20:\n",
    "        row['polyline'] = 'None'\n",
    "    else:\n",
    "        continue"
   ]
  },
  {
   "cell_type": "markdown",
   "id": "461c87af",
   "metadata": {},
   "source": [
    "missing_data"
   ]
  },
  {
   "cell_type": "markdown",
   "id": "6f96b107",
   "metadata": {},
   "source": [
    "Changing values from true to false if polyline = 'None':"
   ]
  },
  {
   "cell_type": "code",
   "execution_count": null,
   "id": "4cfb1838",
   "metadata": {},
   "outputs": [],
   "source": [
    "for _, row in df.iterrows():\n",
    "    if row['polyline'] == 'None':\n",
    "        row['missing_data'] = 'True'\n",
    "    else:\n",
    "        row['missing_data'] = 'False'"
   ]
  },
  {
   "cell_type": "markdown",
   "id": "845befb6",
   "metadata": {},
   "source": [
    "Missingno"
   ]
  },
  {
   "cell_type": "code",
   "execution_count": null,
   "id": "636fde30",
   "metadata": {},
   "outputs": [],
   "source": [
    "missno.bar(df, log=True) \n",
    "\n",
    "missno.heatmap(df) \n",
    "\n",
    "missno.dendrogram(df)"
   ]
  },
  {
   "cell_type": "markdown",
   "id": "28735932",
   "metadata": {},
   "source": [
    "Duplicated Rows"
   ]
  },
  {
   "cell_type": "code",
   "execution_count": null,
   "id": "ec73a1ff",
   "metadata": {},
   "outputs": [],
   "source": [
    "duplicated_rows = df.duplicated()   "
   ]
  },
  {
   "cell_type": "code",
   "execution_count": null,
   "id": "1b807a39",
   "metadata": {},
   "outputs": [],
   "source": [
    "print(\"Number of duplicated rows:\")\n",
    "sum(duplicated_rows)"
   ]
  },
  {
   "cell_type": "code",
   "execution_count": null,
   "id": "c84092f2",
   "metadata": {},
   "outputs": [],
   "source": [
    "print(df[duplicated_rows]) "
   ]
  },
  {
   "cell_type": "markdown",
   "id": "55556df0",
   "metadata": {},
   "source": [
    "Remove duplicated rows"
   ]
  },
  {
   "cell_type": "code",
   "execution_count": null,
   "id": "4047a488",
   "metadata": {},
   "outputs": [],
   "source": [
    "df.drop_duplicates(inplace=False)"
   ]
  },
  {
   "cell_type": "markdown",
   "id": "06772480",
   "metadata": {},
   "source": [
    "Note: raw data had 1710670 rows, now there are 3 fewer."
   ]
  },
  {
   "cell_type": "markdown",
   "id": "2e4a2154",
   "metadata": {},
   "source": [
    "Column Values"
   ]
  },
  {
   "cell_type": "markdown",
   "id": "e184564a",
   "metadata": {},
   "source": [
    "missing_data"
   ]
  },
  {
   "cell_type": "markdown",
   "id": "8eaabbad",
   "metadata": {},
   "source": [
    "Change values to all lowercase"
   ]
  },
  {
   "cell_type": "code",
   "execution_count": null,
   "id": "31da3ab4",
   "metadata": {},
   "outputs": [],
   "source": [
    "df['missing_data'] = df['missing_data'].replace({'True': 'true', 'False': 'false'})"
   ]
  },
  {
   "cell_type": "markdown",
   "id": "a4d413ab",
   "metadata": {},
   "source": [
    "call_type"
   ]
  },
  {
   "cell_type": "markdown",
   "id": "0cc5390b",
   "metadata": {},
   "source": [
    "check that all values are either A, B, or C"
   ]
  },
  {
   "cell_type": "code",
   "execution_count": null,
   "id": "31ff8b97",
   "metadata": {},
   "outputs": [],
   "source": [
    "print(df['call_type'].unique())"
   ]
  },
  {
   "cell_type": "markdown",
   "id": "e5e35e22",
   "metadata": {},
   "source": [
    "day_type"
   ]
  },
  {
   "cell_type": "markdown",
   "id": "ab1ed3d6",
   "metadata": {},
   "source": [
    "check that all values are either A, B, or C"
   ]
  },
  {
   "cell_type": "code",
   "execution_count": null,
   "id": "9fd13564",
   "metadata": {},
   "outputs": [],
   "source": [
    "print(df['day_type'].unique())"
   ]
  },
  {
   "cell_type": "markdown",
   "id": "7f4f4418",
   "metadata": {},
   "source": [
    "Column Type"
   ]
  },
  {
   "cell_type": "code",
   "execution_count": null,
   "id": "b4c1c2e0",
   "metadata": {},
   "outputs": [],
   "source": [
    "df.info()"
   ]
  },
  {
   "cell_type": "code",
   "execution_count": null,
   "id": "b8719558",
   "metadata": {},
   "outputs": [],
   "source": [
    "df.head()"
   ]
  },
  {
   "cell_type": "markdown",
   "id": "ff16aca3",
   "metadata": {},
   "source": [
    "Changing column dtype"
   ]
  },
  {
   "cell_type": "markdown",
   "id": "3c1aee4b",
   "metadata": {},
   "source": [
    "Changing column types to match values.\n",
    "- trip_id = string\n",
    "- taxi_id = string\n",
    "\n",
    "both columns are identification values, so string is more appropriate than integer"
   ]
  },
  {
   "cell_type": "code",
   "execution_count": null,
   "id": "30e34875",
   "metadata": {},
   "outputs": [],
   "source": [
    "df['trip_id'] = df['trip_id'].astype(str)"
   ]
  },
  {
   "cell_type": "code",
   "execution_count": null,
   "id": "ecb1bc2c",
   "metadata": {},
   "outputs": [],
   "source": [
    "df['taxi_id'] = df['taxi_id'].astype(str)"
   ]
  },
  {
   "cell_type": "markdown",
   "id": "f40d0454",
   "metadata": {},
   "source": [
    "Final dtypes"
   ]
  },
  {
   "cell_type": "code",
   "execution_count": null,
   "id": "66b4e62a",
   "metadata": {},
   "outputs": [],
   "source": [
    "df.info()"
   ]
  },
  {
   "cell_type": "markdown",
   "id": "796f44a2",
   "metadata": {},
   "source": [
    "## Profile Report"
   ]
  },
  {
   "cell_type": "markdown",
   "id": "4f543bdf",
   "metadata": {},
   "source": [
    "Note: dataframe is too large to profile report the whole dataframe, so 1000 random rows will be selected. random_state is set to ensure that the same random sample is produced when the code is run"
   ]
  },
  {
   "cell_type": "code",
   "execution_count": null,
   "id": "714f7d15",
   "metadata": {},
   "outputs": [],
   "source": [
    "sample_size = 1000\n",
    "random_sample = df.sample(n=sample_size, random_state=42) \n",
    "\n",
    "profile = ProfileReport(random_sample) "
   ]
  },
  {
   "cell_type": "code",
   "execution_count": null,
   "id": "4e5ae6c6",
   "metadata": {},
   "outputs": [],
   "source": [
    "profile"
   ]
  },
  {
   "cell_type": "code",
   "execution_count": null,
   "id": "c8c508e1",
   "metadata": {},
   "outputs": [],
   "source": [
    "profile.to_file(output_file='taxi_profile.html')"
   ]
  },
  {
   "cell_type": "markdown",
   "id": "cd607a20",
   "metadata": {},
   "source": [
    "Saving Dataframe:"
   ]
  },
  {
   "cell_type": "markdown",
   "id": "edec6856",
   "metadata": {},
   "source": [
    "Saving dataframe for further analysis:"
   ]
  },
  {
   "cell_type": "code",
   "execution_count": null,
   "id": "f0fb820c",
   "metadata": {},
   "outputs": [],
   "source": [
    "df.to_csv('taxi.csv', index=False)"
   ]
  },
  {
   "cell_type": "markdown",
   "id": "d5862912",
   "metadata": {},
   "source": [
    "## Data Discovery"
   ]
  },
  {
   "cell_type": "code",
   "execution_count": null,
   "id": "cbe3a1d1",
   "metadata": {},
   "outputs": [],
   "source": [
    "df = pd.read_csv(r\"taxi.csv\", header=0)"
   ]
  },
  {
   "cell_type": "markdown",
   "id": "904b8635",
   "metadata": {},
   "source": [
    "Pie Chart"
   ]
  },
  {
   "cell_type": "code",
   "execution_count": null,
   "id": "cfcb3653",
   "metadata": {},
   "outputs": [],
   "source": [
    "df['call_type'].value_counts().plot(kind='pie', figsize=(5,5))\n",
    "plt.legend()      \n",
    "plt.title(\"Call Type\")\n",
    "plt.show"
   ]
  },
  {
   "cell_type": "markdown",
   "id": "4fa62a92",
   "metadata": {},
   "source": [
    "Scatter Plot"
   ]
  },
  {
   "cell_type": "markdown",
   "id": "90a3189e",
   "metadata": {},
   "source": [
    "Duration by Distance"
   ]
  },
  {
   "cell_type": "code",
   "execution_count": null,
   "id": "012cdcbb",
   "metadata": {},
   "outputs": [],
   "source": [
    "plt.scatter(df['duration'],df['distance'])\n",
    "plt.xlabel(\"Duration (sec)\")\n",
    "plt.ylabel(\"Distance\")\n",
    "plt.title('Duration vs Distance')\n",
    "plt.show"
   ]
  },
  {
   "cell_type": "markdown",
   "id": "d98806be",
   "metadata": {},
   "source": [
    "Starting Point"
   ]
  },
  {
   "cell_type": "markdown",
   "id": "f8e25f12",
   "metadata": {},
   "source": [
    "Steps to find x and y values from coordinate:\n",
    "- split starting_point column by \",\" to find x and y coordinate\n",
    "- remove first character of x coordinate and last character of y coordinate as they are \"[\" and \"]\" respectively"
   ]
  },
  {
   "cell_type": "code",
   "execution_count": null,
   "id": "addbb9c8",
   "metadata": {},
   "outputs": [],
   "source": [
    "df[['x_start', 'y_start']] = df['starting_point'].str.split(',', expand=True)"
   ]
  },
  {
   "cell_type": "code",
   "execution_count": null,
   "id": "555a2477",
   "metadata": {},
   "outputs": [],
   "source": [
    "df['x_start'] = pd.to_numeric(df['x_start'].str[1:], errors='coerce')\n",
    "df['y_start'] = pd.to_numeric(df['y_start'].str[:-1], errors='coerce')"
   ]
  },
  {
   "cell_type": "code",
   "execution_count": null,
   "id": "8dc5e434",
   "metadata": {},
   "outputs": [],
   "source": [
    "plt.scatter(df['x_start'],df['y_start'])\n",
    "plt.xlabel(\"X Coordinate\")\n",
    "plt.ylabel(\"Y Coordinate\")\n",
    "plt.title('Starting Point')\n",
    "plt.xlim(-14, -4)\n",
    "plt.ylim(36,52)\n",
    "plt.show"
   ]
  },
  {
   "cell_type": "markdown",
   "id": "48d7695d",
   "metadata": {},
   "source": [
    "Ending Point"
   ]
  },
  {
   "cell_type": "markdown",
   "id": "1f8c38f9",
   "metadata": {},
   "source": [
    "Same method is used for starting point"
   ]
  },
  {
   "cell_type": "code",
   "execution_count": null,
   "id": "b29d24dc",
   "metadata": {},
   "outputs": [],
   "source": [
    "df['ending_point'].str.split(',')\n",
    "\n",
    "df[['x_end', 'y_end']] = df['ending_point'].str.split(',', expand=True)"
   ]
  },
  {
   "cell_type": "code",
   "execution_count": null,
   "id": "f9c7a9b2",
   "metadata": {},
   "outputs": [],
   "source": [
    "df['x_end'] = pd.to_numeric(df['x_end'].str[1:], errors='coerce')\n",
    "df['y_end'] = pd.to_numeric(df['y_end'].str[:-1], errors='coerce')"
   ]
  },
  {
   "cell_type": "code",
   "execution_count": null,
   "id": "5a5f3619",
   "metadata": {},
   "outputs": [],
   "source": [
    "plt.scatter(df['x_end'],df['y_end'])\n",
    "plt.xlabel(\"X Coordinate\")\n",
    "plt.ylabel(\"Y Coordinate\")\n",
    "plt.title('Ending Point')\n",
    "plt.xlim(-14, -4)\n",
    "plt.ylim(36,52)\n",
    "plt.show"
   ]
  },
  {
   "cell_type": "markdown",
   "id": "0ca67b4a",
   "metadata": {},
   "source": [
    "Starting and Ending Point"
   ]
  },
  {
   "cell_type": "code",
   "execution_count": null,
   "id": "9c93c717",
   "metadata": {},
   "outputs": [],
   "source": [
    "plt.scatter(df['x_start'],df['y_start'], c='b', marker='X', alpha=0.5)\n",
    "plt.scatter(df['x_end'],df['y_end'], c='r', marker='+', alpha=0.5)\n",
    "plt.xlabel(\"X Coordinate\")\n",
    "plt.ylabel(\"Y Coordinate\")\n",
    "plt.legend()\n",
    "plt.title('Starting and Ending Points')\n",
    "plt.show"
   ]
  },
  {
   "cell_type": "markdown",
   "id": "77ca5315",
   "metadata": {},
   "source": [
    "Histogram"
   ]
  },
  {
   "cell_type": "code",
   "execution_count": null,
   "id": "c00fe8df",
   "metadata": {},
   "outputs": [],
   "source": [
    "bin_range = range(0, 8000, 250)"
   ]
  },
  {
   "cell_type": "code",
   "execution_count": null,
   "id": "e5c1cb5b",
   "metadata": {},
   "outputs": [],
   "source": [
    "plt.hist(df['duration'],  bins=20, range=(0, 8000))\n",
    "plt.title('Duration')\n",
    "plt.xlabel('Duration (secs)')\n",
    "plt.ylabel('Frequency')\n",
    "plt.show()"
   ]
  },
  {
   "cell_type": "markdown",
   "id": "15339800",
   "metadata": {},
   "source": [
    "Log10"
   ]
  },
  {
   "cell_type": "code",
   "execution_count": null,
   "id": "ec45c260",
   "metadata": {},
   "outputs": [],
   "source": [
    "duration_skew = df['duration'].skew()\n",
    "duration_kurt = df['duration'].kurt()"
   ]
  },
  {
   "cell_type": "code",
   "execution_count": null,
   "id": "6107f0f8",
   "metadata": {},
   "outputs": [],
   "source": [
    "non_zero = df['duration'] != 0\n",
    "\n",
    "\n",
    "df['duration_log'] = np.log10(df['duration'][non_zero])"
   ]
  },
  {
   "cell_type": "code",
   "execution_count": null,
   "id": "07b99367",
   "metadata": {},
   "outputs": [],
   "source": [
    "log10_duration_skew = df['duration_log'].skew()\n",
    "log10_duration_kurt = df['duration_log'].kurt()"
   ]
  },
  {
   "cell_type": "code",
   "execution_count": null,
   "id": "ea01e923",
   "metadata": {},
   "outputs": [],
   "source": [
    "print(\"Ideal Skew :  0\")\n",
    "print(\"Ideal Kurt :  3\")\n",
    "print('Duration Skew : ' + str(duration_skew))\n",
    "print('Duration Kurt : ' + str(duration_kurt))\n",
    "print('Duration Log10 Skew : ' + str(log10_duration_skew))\n",
    "print('Duration Log10 Kurt : ' + str(log10_duration_kurt))"
   ]
  },
  {
   "cell_type": "code",
   "execution_count": null,
   "id": "23b4927f",
   "metadata": {},
   "outputs": [],
   "source": [
    "plt.hist(df['duration_log'], bins=20, range=(1, 5))\n",
    "plt.title('Duration Log10')\n",
    "plt.xlabel('Duration (log)')\n",
    "plt.ylabel('Frequency')\n",
    "plt.show()"
   ]
  },
  {
   "cell_type": "markdown",
   "id": "35e358c3",
   "metadata": {},
   "source": [
    "Boxplot"
   ]
  },
  {
   "cell_type": "code",
   "execution_count": null,
   "id": "494b3a43",
   "metadata": {},
   "outputs": [],
   "source": [
    "plt.boxplot(df['duration'], showfliers=False, vert= False)\n",
    "plt.title(\"Duration of Journey\")\n",
    "plt.xlabel(\"Duration (sec)\", fontsize=12)\n",
    "plt.show()"
   ]
  },
  {
   "cell_type": "markdown",
   "id": "04032c69",
   "metadata": {},
   "source": [
    "Line Graph"
   ]
  },
  {
   "cell_type": "markdown",
   "id": "4f726144",
   "metadata": {},
   "source": [
    "Plotting a journey using the coordinates from polyline column"
   ]
  },
  {
   "cell_type": "markdown",
   "id": "124e7733",
   "metadata": {},
   "source": [
    "note: can't plot on map because it's test data (i.e coordinates aren't real)"
   ]
  },
  {
   "cell_type": "code",
   "execution_count": null,
   "id": "1197ad79",
   "metadata": {},
   "outputs": [],
   "source": [
    "c = str(df['polyline'][0])\n",
    "\n",
    "cx = c.split(',')[::2]\n",
    "cy = c.split(',')[1::2]\n",
    "\n",
    "x = []\n",
    "y = []\n",
    "\n",
    "for c in range(len(cx)):\n",
    "    x.append(cx[c][1:])\n",
    "    y.append(cy[c][:-1])\n",
    "    \n",
    "x[0] = x[0][1:]\n",
    "y[-1] = y[-1][:-1]"
   ]
  },
  {
   "cell_type": "code",
   "execution_count": null,
   "id": "4cc90cd3",
   "metadata": {},
   "outputs": [],
   "source": [
    "plt.plot(x,y, marker = ('+'))\n",
    "plt.xticks(rotation=45)\n",
    "plt.title('Journey of ride (0)')\n",
    "plt.xlabel('X Coordinates')\n",
    "plt.ylabel('Y Coordinates')\n",
    "plt.show()"
   ]
  },
  {
   "cell_type": "code",
   "execution_count": null,
   "id": "86f1b54c",
   "metadata": {},
   "outputs": [],
   "source": [
    "c = str(df['polyline'][10000])\n",
    "\n",
    "cx = c.split(',')[::2]\n",
    "cy = c.split(',')[1::2]\n",
    "\n",
    "x = []\n",
    "y = []\n",
    "\n",
    "for c in range(len(cx)):\n",
    "    x.append(cx[c][1:])\n",
    "    y.append(cy[c][:-1])\n",
    "    \n",
    "x[0] = x[0][1:]\n",
    "y[-1] = y[-1][:-1]"
   ]
  },
  {
   "cell_type": "code",
   "execution_count": null,
   "id": "8d3dbc8f",
   "metadata": {},
   "outputs": [],
   "source": [
    "plt.plot(x,y, marker = ('+'))\n",
    "plt.xticks(rotation=45)\n",
    "plt.title('Journey of ride (10000)')\n",
    "plt.xlabel('X Coordinates')\n",
    "plt.ylabel('Y Coordinates')\n",
    "plt.show()"
   ]
  },
  {
   "cell_type": "markdown",
   "id": "947d17c6",
   "metadata": {},
   "source": [
    "### SNS Pairplot"
   ]
  },
  {
   "cell_type": "code",
   "execution_count": null,
   "id": "8c04f384",
   "metadata": {},
   "outputs": [],
   "source": [
    "sns.pairplot(random_sample)\n",
    "plt.show()"
   ]
  }
 ],
 "metadata": {
  "kernelspec": {
   "display_name": "Python 3 (ipykernel)",
   "language": "python",
   "name": "python3"
  },
  "language_info": {
   "codemirror_mode": {
    "name": "ipython",
    "version": 3
   },
   "file_extension": ".py",
   "mimetype": "text/x-python",
   "name": "python",
   "nbconvert_exporter": "python",
   "pygments_lexer": "ipython3",
   "version": "3.10.9"
  },
  "toc": {
   "base_numbering": "",
   "nav_menu": {
    "height": "350px",
    "width": "236px"
   },
   "number_sections": false,
   "sideBar": false,
   "skip_h1_title": false,
   "title_cell": "Table of Contents",
   "title_sidebar": "Contents",
   "toc_cell": true,
   "toc_position": {
    "height": "507px",
    "left": "23px",
    "top": "213px",
    "width": "257.188px"
   },
   "toc_section_display": true,
   "toc_window_display": false
  }
 },
 "nbformat": 4,
 "nbformat_minor": 5
}
